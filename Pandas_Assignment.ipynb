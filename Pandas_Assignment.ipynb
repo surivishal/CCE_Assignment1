{
  "cells": [
    {
      "cell_type": "markdown",
      "metadata": {
        "id": "view-in-github",
        "colab_type": "text"
      },
      "source": [
        "<a href=\"https://colab.research.google.com/github/surivishal/CCE_Assignment1/blob/main/Pandas_Assignment.ipynb\" target=\"_parent\"><img src=\"https://colab.research.google.com/assets/colab-badge.svg\" alt=\"Open In Colab\"/></a>"
      ]
    },
    {
      "cell_type": "markdown",
      "metadata": {
        "id": "SH9cedWofvSw"
      },
      "source": [
        "### Data Exploration Exercises\n",
        "\n",
        "#### Task 1.1 - The goal of this exercise is to find the average age of celebrities who died February–July 2016\n",
        "\n",
        "<div>\n",
        "  <a href=\"https://colab.research.google.com/github/emharsha1812/CCE_Assignment/blob/main/Assignments/Pandas.ipynb\" target=\"_parent\">\n",
        "    <img src=\"https://colab.research.google.com/assets/colab-badge.svg\" alt=\"Open In Colab\"/>\n",
        "  </a>\n",
        "</div>\n",
        "\n",
        "1. Create a data frame from the file celebrity_deaths_2016.csv. For this exercise, we’ll use only two columns:\n",
        "–dateofdeath\n",
        "– age\n",
        "2. Create a new month column containing the month from the dateofdeath\n",
        "column.\n",
        "3. Make the month column the index of the data frame.\n",
        "4. Sort the data frame by the index.\n",
        "5. Clean all nonintegers from the age column.\n",
        "6. Turn the age column into an integer value.\n",
        "7. Find the average age of celebrities who died during that period"
      ]
    },
    {
      "cell_type": "code",
      "execution_count": 22,
      "metadata": {
        "id": "EgIFgotYfvS2"
      },
      "outputs": [],
      "source": [
        "import pandas as pd\n",
        "import numpy as np\n",
        "\n",
        "# You are NOT required to change the code here\n",
        "# titanic_df=pd.read_csv('celebrity_deaths_2016.csv')\n",
        "titanic_df='https://raw.githubusercontent.com/emharsha1812/CCE_Assignment/main/dataset/celebrity_deaths_2016.csv'\n",
        "\n",
        "def calculate_average_age(df=titanic_df):\n",
        "    #TODO- Write your code here\n",
        "    '''Arguments -\n",
        "    titanic_df = The pandas dataframe that we loaded\n",
        "\n",
        "    Returns\n",
        "    int : average_age\n",
        "    '''\n",
        "    df = pd.read_csv(titanic_df)\n",
        "    df['month'] = pd.to_datetime(df['dateofdeath']).dt.month\n",
        "    df = df.set_index('month')\n",
        "    df = df.sort_index()\n",
        "    df = df[df['age'].apply(lambda x: str(x).isdigit())]\n",
        "    df['age'] = df['age'].astype(int)\n",
        "    average_age=df['age'].mean()\n",
        "    #print(average_age)\n",
        "    return average_age\n",
        "\n",
        "get_average_age_ans=calculate_average_age(titanic_df)"
      ]
    },
    {
      "cell_type": "markdown",
      "metadata": {
        "id": "0Jo_W4_4fvS3"
      },
      "source": [
        "### Task 1.2 - The goal of this exercise is to group the data according to the below conditions\n",
        "1. Load the CSV file nyc_taxi_2019-01.csv into a data frame using only the columns passenger_count, trip_distance, and total_amount.\n",
        "2. Using a descending sort, find the average cost of the 20 longest (in distance) taxi rides in January 2019.\n",
        "3. Using an ascending sort, find the average cost of the 20 longest (in distance) taxi rides in January 2019. Are the results any different?\n",
        "4. Sort by ascending passenger count and descending trip distance. (So, start with the longest trip with 0 passengers and end with the shortest trip with 9 passengers.) What is the average price paid for the top 50 rides?\n"
      ]
    },
    {
      "cell_type": "code",
      "execution_count": 23,
      "metadata": {
        "id": "UdS9iWWUfvS4"
      },
      "outputs": [],
      "source": [
        "# filename = 'nyc_taxidataset.csv'\n",
        "filename='https://raw.githubusercontent.com/emharsha1812/CCE_Assignment/main/dataset/nyc_taxidataset.csv'\n",
        "df = pd.read_csv(filename,usecols=['passenger_count','trip_distance',\n",
        "'total_amount'],\n",
        "dtype={'total_amount':np.float128})\n",
        "\n",
        "\n",
        "# Task 1.2.2 & Task 1.2.3\n",
        "def get_average_cost_descending_sort(df):\n",
        "    \"\"\"Arguments- df:Dataframe\n",
        "\n",
        "    Returns\n",
        "    tuple of float - (avg_desc,avg_asc) : (rounded of two integers)\n",
        "    \"\"\"\n",
        "    df_sorted_desc = df.sort_values('trip_distance', ascending=False)\n",
        "    top_20_desc = df_sorted_desc.head(20)\n",
        "    avg_desc = top_20_desc['total_amount'].mean()\n",
        "\n",
        "    df_sorted_asc = df.sort_values('trip_distance')\n",
        "    top_20_asc = df_sorted_asc.head(20)\n",
        "    avg_asc = top_20_asc['total_amount'].mean()\n",
        "    #print(avg_desc)\n",
        "    #print(avg_asc)\n",
        "    return (avg_desc,avg_asc)\n",
        "\n",
        "def get_price_top50_rides(df):\n",
        "    \"\"\"Arguments df:Dataframe\n",
        "    Returns\n",
        "    float - rounded to two integers\n",
        "    \"\"\"\n",
        "\n",
        "    #Write your code below\n",
        "    df_sorted = df.sort_values(['passenger_count','trip_distance'],ascending=[True,False])\n",
        "    top_50 = df_sorted.head(50)\n",
        "    avg_price_rides = top_50['total_amount'].mean()\n",
        "    #print(avg_price_rides)\n",
        "    return avg_price_rides\n",
        "\n",
        "\n",
        "get_average_cost_ans=get_average_cost_descending_sort(df)\n",
        "get_avg_price_top50_ans=get_price_top50_rides(df)"
      ]
    },
    {
      "cell_type": "markdown",
      "metadata": {
        "id": "UpBnjcjOfvS5"
      },
      "source": [
        "#### Task 1.3 - The goal of this exercise is to group the data according to the below conditions\n",
        "1. Load taxi data from January 2019 into a data frame using only the columns passenger_count, trip_distance, and total_amount.\n",
        "2. For each number of passengers, find the mean cost of a taxi ride. Sort this result from lowest (i.e., cheapest) to highest (i.e., most expensive). Return the topmost value (use .head(1))\n",
        "Sort the results again by increasing the number of passengers. Return the topmost value (use .head(1))\n",
        "3. Create a new column, trip_distance_group, in which the values are short (< 2\n",
        "miles), medium (>= 2 miles and <= 10 miles), and long (> 10 miles). What is the\n",
        "average number of passengers per trip length category? Sort this result from\n",
        "highest (most passengers) to lowest (fewest passengers)."
      ]
    },
    {
      "cell_type": "code",
      "execution_count": 24,
      "metadata": {
        "id": "OgsOVEzCfvS5"
      },
      "outputs": [],
      "source": [
        "filename='https://raw.githubusercontent.com/emharsha1812/CCE_Assignment/main/dataset/nyc_taxidataset.csv'\n",
        "df = pd.read_csv(filename,usecols=['passenger_count','trip_distance','total_amount'])\n",
        "\n",
        "def get_mean_cost(df):\n",
        "    \"\"\"Parameters\n",
        "    df - Dataframe\n",
        "\n",
        "    Returns\n",
        "    mean_cost : int\"\"\"\n",
        "    #Write your code below\n",
        "    mean_cost_per_passenger = df.groupby('passenger_count')['total_amount'].mean()\n",
        "    mean_cost_per_passenger = mean_cost_per_passenger.sort_values()\n",
        "    mean_cost=int(mean_cost_per_passenger.head(1).iloc[0])\n",
        "    #print(mean_cost)\n",
        "    return mean_cost\n",
        "\n",
        "\n",
        "def get_lowest_average_fare(df):\n",
        "    \"\"\"\n",
        "    Find the passenger count with the lowest average total fare.\n",
        "\n",
        "    Args:\n",
        "    df (pandas.DataFrame): A DataFrame containing 'passenger_count' and 'total_amount' columns.\n",
        "\n",
        "    Returns:\n",
        "    pandas.Series: A Series with one row, containing the passenger count with the lowest average fare.\n",
        "    \"\"\"\n",
        "    mean_cost_per_passenger = df.groupby('passenger_count')['total_amount'].mean()\n",
        "    mean_cost_per_passenger = mean_cost_per_passenger.sort_values()\n",
        "    lowerst_average_fare=mean_cost_per_passenger.head(1)\n",
        "    #print( lowerst_average_fare)\n",
        "    return lowerst_average_fare\n",
        "    pass\n",
        "\n",
        "\n",
        "def get_trip_length_category(df):\n",
        "    \"\"\"\n",
        "    Find the average number of passengers per trip length category\n",
        "\n",
        "    Args:\n",
        "    df (pandas.DataFrame): A DataFrame containing 'passenger_count' and 'total_amount' columns.\n",
        "\n",
        "    Returns:\n",
        "    pandas.Series: A Series with three rows. displaying values of trip distance (short, medium, long).\n",
        "    \"\"\"\n",
        "\n",
        "    def categorize_distance(distance):\n",
        "      if distance < 2:\n",
        "        return 'short'\n",
        "      elif distance >= 2 and distance <= 10:\n",
        "        return 'medium'\n",
        "      else:\n",
        "        return 'long'\n",
        "\n",
        "    df['trip_distance_group'] = df['trip_distance'].apply(categorize_distance)\n",
        "\n",
        "    avg_passengers = df.groupby('trip_distance_group')['passenger_count'].mean()\n",
        "    avg_passengers = avg_passengers.sort_values(ascending=False)\n",
        "    #print(avg_passengers)\n",
        "    return avg_passengers\n",
        "\n",
        "    pass\n",
        "\n",
        "mean_cost_ans=get_mean_cost(df)\n",
        "lowest_average_fare_ans=get_lowest_average_fare(df)\n",
        "trip_length_category_ans=get_trip_length_category(df)\n"
      ]
    },
    {
      "cell_type": "code",
      "source": [],
      "metadata": {
        "id": "tgm8zZIoz-4e"
      },
      "execution_count": null,
      "outputs": []
    }
  ],
  "metadata": {
    "kernelspec": {
      "display_name": "Python 3",
      "language": "python",
      "name": "python3"
    },
    "language_info": {
      "codemirror_mode": {
        "name": "ipython",
        "version": 3
      },
      "file_extension": ".py",
      "mimetype": "text/x-python",
      "name": "python",
      "nbconvert_exporter": "python",
      "pygments_lexer": "ipython3",
      "version": "3.10.12"
    },
    "colab": {
      "provenance": [],
      "include_colab_link": true
    }
  },
  "nbformat": 4,
  "nbformat_minor": 0
}